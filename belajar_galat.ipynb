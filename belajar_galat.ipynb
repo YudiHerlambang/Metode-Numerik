{
  "nbformat": 4,
  "nbformat_minor": 0,
  "metadata": {
    "colab": {
      "provenance": [],
      "authorship_tag": "ABX9TyMrQEC7P3e6JlNSNLIsFlmL",
      "include_colab_link": true
    },
    "kernelspec": {
      "name": "python3",
      "display_name": "Python 3"
    },
    "language_info": {
      "name": "python"
    }
  },
  "cells": [
    {
      "cell_type": "markdown",
      "metadata": {
        "id": "view-in-github",
        "colab_type": "text"
      },
      "source": [
        "<a href=\"https://colab.research.google.com/github/YudiHerlambang/Metode-Numerik/blob/main/belajar_galat.ipynb\" target=\"_parent\"><img src=\"https://colab.research.google.com/assets/colab-badge.svg\" alt=\"Open In Colab\"/></a>"
      ]
    },
    {
      "cell_type": "code",
      "execution_count": 5,
      "metadata": {
        "colab": {
          "base_uri": "https://localhost:8080/"
        },
        "id": "nhoPaIdF42pI",
        "outputId": "9676add2-22eb-4721-ac79-d0fcb5fba3a6"
      },
      "outputs": [
        {
          "output_type": "stream",
          "name": "stdout",
          "text": [
            "0.1592653589793258 0.05069573828972976\n"
          ]
        }
      ],
      "source": [
        "import math\n",
        "\n",
        "phi1 = 3.14\n",
        "phi2 = math.pi  # Menggunakan nilai pi dari modul math\n",
        "r = 10\n",
        "\n",
        "L1 = phi1 * r * r\n",
        "L2 = phi2 * r * r\n",
        "\n",
        "gm = abs(L1 - L2)  # Hitung selisih absolut\n",
        "gr = (gm / L2) * 100  # Hitung persentase kesalahan\n",
        "\n",
        "print(gm, gr)  # Tampilkan hasil\n"
      ]
    }
  ]
}