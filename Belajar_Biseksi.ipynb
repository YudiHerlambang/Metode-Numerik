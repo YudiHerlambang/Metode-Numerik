{
  "nbformat": 4,
  "nbformat_minor": 0,
  "metadata": {
    "colab": {
      "provenance": [],
      "authorship_tag": "ABX9TyOp09+Wl2RGS9FswlyoYU4r",
      "include_colab_link": true
    },
    "kernelspec": {
      "name": "python3",
      "display_name": "Python 3"
    },
    "language_info": {
      "name": "python"
    }
  },
  "cells": [
    {
      "cell_type": "markdown",
      "metadata": {
        "id": "view-in-github",
        "colab_type": "text"
      },
      "source": [
        "<a href=\"https://colab.research.google.com/github/YudiHerlambang/Metode-Numerik/blob/main/Belajar_Biseksi.ipynb\" target=\"_parent\"><img src=\"https://colab.research.google.com/assets/colab-badge.svg\" alt=\"Open In Colab\"/></a>"
      ]
    },
    {
      "cell_type": "code",
      "execution_count": 5,
      "metadata": {
        "colab": {
          "base_uri": "https://localhost:8080/"
        },
        "id": "tBktPYga9hCN",
        "outputId": "7012ab72-b12e-474a-e81c-4815fc56cf0b"
      },
      "outputs": [
        {
          "output_type": "stream",
          "name": "stdout",
          "text": [
            "Iterasi 1:\n",
            "f(a): 2\n",
            "f(b): 92\n",
            "f(c): 22.0\n"
          ]
        }
      ],
      "source": [
        "a = 1\n",
        "b = 11\n",
        "\n",
        "# Menghitung nilai tengah antara a dan b\n",
        "c = (a + b) / 2\n",
        "\n",
        "# fx = x^2 - 3x + 4\n",
        "def f(x):\n",
        "    # Hitung f(x) = x^2 - 3x + 4\n",
        "    return x**2 - 3*x + 4\n",
        "\n",
        "# Iterasi 1: Menghitung dan mencetak nilai fungsi untuk a, b, dan c\n",
        "print(\"Iterasi 1:\")\n",
        "print(\"f(a):\", f(a))  # Menghitung dan mencetak f(a)\n",
        "print(\"f(b):\", f(b))  # Menghitung dan mencetak f(b)\n",
        "print(\"f(c):\", f(c))  # Menghitung dan mencetak f(c)\n",
        "\n",
        "# Hitung nilai untuk f(a) dan f(b)\n",
        "f_n1 = f(a) * f(c)\n",
        "f_n2 = f(c) * f(b)\n",
        "\n",
        "# Logika untuk memeriksa hasil\n",
        "if f_n1 < f_n2:  # Memeriksa apakah hasil f(a) * f(c) < 0\n",
        "    b = c  # Jika ya, set b menjadi c\n",
        "else:\n",
        "    a = c  # Jika tidak, set a menjadi c\n",
        "\n",
        "# Menghitung ulang nilai c setelah pembaruan\n",
        "c = (a + b) / 2\n",
        "\n",
        "\n"
      ]
    }
  ]
}